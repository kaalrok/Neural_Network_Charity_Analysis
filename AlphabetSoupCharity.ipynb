{
 "cells": [
  {
   "cell_type": "markdown",
   "metadata": {},
   "source": [
    "### Deliverable 1: Preprocessing the Data for a Neural Network"
   ]
  },
  {
   "cell_type": "code",
   "execution_count": 1,
   "metadata": {},
   "outputs": [],
   "source": [
    "# Import our dependencies\n",
    "from sklearn.model_selection import train_test_split\n",
    "from sklearn.preprocessing import StandardScaler,OneHotEncoder\n",
    "import pandas as pd\n",
    "import tensorflow as tf"
   ]
  },
  {
   "cell_type": "code",
   "execution_count": 2,
   "metadata": {},
   "outputs": [
    {
     "data": {
      "text/html": [
       "<div>\n",
       "<style scoped>\n",
       "    .dataframe tbody tr th:only-of-type {\n",
       "        vertical-align: middle;\n",
       "    }\n",
       "\n",
       "    .dataframe tbody tr th {\n",
       "        vertical-align: top;\n",
       "    }\n",
       "\n",
       "    .dataframe thead th {\n",
       "        text-align: right;\n",
       "    }\n",
       "</style>\n",
       "<table border=\"1\" class=\"dataframe\">\n",
       "  <thead>\n",
       "    <tr style=\"text-align: right;\">\n",
       "      <th></th>\n",
       "      <th>EIN</th>\n",
       "      <th>NAME</th>\n",
       "      <th>APPLICATION_TYPE</th>\n",
       "      <th>AFFILIATION</th>\n",
       "      <th>CLASSIFICATION</th>\n",
       "      <th>USE_CASE</th>\n",
       "      <th>ORGANIZATION</th>\n",
       "      <th>STATUS</th>\n",
       "      <th>INCOME_AMT</th>\n",
       "      <th>SPECIAL_CONSIDERATIONS</th>\n",
       "      <th>ASK_AMT</th>\n",
       "      <th>IS_SUCCESSFUL</th>\n",
       "    </tr>\n",
       "  </thead>\n",
       "  <tbody>\n",
       "    <tr>\n",
       "      <th>0</th>\n",
       "      <td>10520599</td>\n",
       "      <td>BLUE KNIGHTS MOTORCYCLE CLUB</td>\n",
       "      <td>T10</td>\n",
       "      <td>Independent</td>\n",
       "      <td>C1000</td>\n",
       "      <td>ProductDev</td>\n",
       "      <td>Association</td>\n",
       "      <td>1</td>\n",
       "      <td>0</td>\n",
       "      <td>N</td>\n",
       "      <td>5000</td>\n",
       "      <td>1</td>\n",
       "    </tr>\n",
       "    <tr>\n",
       "      <th>1</th>\n",
       "      <td>10531628</td>\n",
       "      <td>AMERICAN CHESAPEAKE CLUB CHARITABLE TR</td>\n",
       "      <td>T3</td>\n",
       "      <td>Independent</td>\n",
       "      <td>C2000</td>\n",
       "      <td>Preservation</td>\n",
       "      <td>Co-operative</td>\n",
       "      <td>1</td>\n",
       "      <td>1-9999</td>\n",
       "      <td>N</td>\n",
       "      <td>108590</td>\n",
       "      <td>1</td>\n",
       "    </tr>\n",
       "    <tr>\n",
       "      <th>2</th>\n",
       "      <td>10547893</td>\n",
       "      <td>ST CLOUD PROFESSIONAL FIREFIGHTERS</td>\n",
       "      <td>T5</td>\n",
       "      <td>CompanySponsored</td>\n",
       "      <td>C3000</td>\n",
       "      <td>ProductDev</td>\n",
       "      <td>Association</td>\n",
       "      <td>1</td>\n",
       "      <td>0</td>\n",
       "      <td>N</td>\n",
       "      <td>5000</td>\n",
       "      <td>0</td>\n",
       "    </tr>\n",
       "    <tr>\n",
       "      <th>3</th>\n",
       "      <td>10553066</td>\n",
       "      <td>SOUTHSIDE ATHLETIC ASSOCIATION</td>\n",
       "      <td>T3</td>\n",
       "      <td>CompanySponsored</td>\n",
       "      <td>C2000</td>\n",
       "      <td>Preservation</td>\n",
       "      <td>Trust</td>\n",
       "      <td>1</td>\n",
       "      <td>10000-24999</td>\n",
       "      <td>N</td>\n",
       "      <td>6692</td>\n",
       "      <td>1</td>\n",
       "    </tr>\n",
       "    <tr>\n",
       "      <th>4</th>\n",
       "      <td>10556103</td>\n",
       "      <td>GENETIC RESEARCH INSTITUTE OF THE DESERT</td>\n",
       "      <td>T3</td>\n",
       "      <td>Independent</td>\n",
       "      <td>C1000</td>\n",
       "      <td>Heathcare</td>\n",
       "      <td>Trust</td>\n",
       "      <td>1</td>\n",
       "      <td>100000-499999</td>\n",
       "      <td>N</td>\n",
       "      <td>142590</td>\n",
       "      <td>1</td>\n",
       "    </tr>\n",
       "  </tbody>\n",
       "</table>\n",
       "</div>"
      ],
      "text/plain": [
       "        EIN                                      NAME APPLICATION_TYPE  \\\n",
       "0  10520599              BLUE KNIGHTS MOTORCYCLE CLUB              T10   \n",
       "1  10531628    AMERICAN CHESAPEAKE CLUB CHARITABLE TR               T3   \n",
       "2  10547893        ST CLOUD PROFESSIONAL FIREFIGHTERS               T5   \n",
       "3  10553066            SOUTHSIDE ATHLETIC ASSOCIATION               T3   \n",
       "4  10556103  GENETIC RESEARCH INSTITUTE OF THE DESERT               T3   \n",
       "\n",
       "        AFFILIATION CLASSIFICATION      USE_CASE  ORGANIZATION  STATUS  \\\n",
       "0       Independent          C1000    ProductDev   Association       1   \n",
       "1       Independent          C2000  Preservation  Co-operative       1   \n",
       "2  CompanySponsored          C3000    ProductDev   Association       1   \n",
       "3  CompanySponsored          C2000  Preservation         Trust       1   \n",
       "4       Independent          C1000     Heathcare         Trust       1   \n",
       "\n",
       "      INCOME_AMT SPECIAL_CONSIDERATIONS  ASK_AMT  IS_SUCCESSFUL  \n",
       "0              0                      N     5000              1  \n",
       "1         1-9999                      N   108590              1  \n",
       "2              0                      N     5000              0  \n",
       "3    10000-24999                      N     6692              1  \n",
       "4  100000-499999                      N   142590              1  "
      ]
     },
     "execution_count": 2,
     "metadata": {},
     "output_type": "execute_result"
    }
   ],
   "source": [
    "#  Import and read the charity_data.csv.\n",
    "import pandas as pd \n",
    "application_df = pd.read_csv(\"./Data/charity_data.csv\")\n",
    "application_df.head()"
   ]
  },
  {
   "cell_type": "code",
   "execution_count": 3,
   "metadata": {},
   "outputs": [
    {
     "data": {
      "text/plain": [
       "(34299, 12)"
      ]
     },
     "execution_count": 3,
     "metadata": {},
     "output_type": "execute_result"
    }
   ],
   "source": [
    "application_df.shape"
   ]
  },
  {
   "cell_type": "code",
   "execution_count": 4,
   "metadata": {},
   "outputs": [],
   "source": [
    "# Drop the non-beneficial ID columns, 'EIN' and 'NAME'.\n",
    "application_df = application_df.drop(columns=['EIN', 'NAME'])"
   ]
  },
  {
   "cell_type": "code",
   "execution_count": 5,
   "metadata": {},
   "outputs": [
    {
     "data": {
      "text/plain": [
       "(34299, 10)"
      ]
     },
     "execution_count": 5,
     "metadata": {},
     "output_type": "execute_result"
    }
   ],
   "source": [
    "application_df.shape"
   ]
  },
  {
   "cell_type": "code",
   "execution_count": 6,
   "metadata": {},
   "outputs": [
    {
     "data": {
      "text/plain": [
       "Index(['APPLICATION_TYPE', 'AFFILIATION', 'CLASSIFICATION', 'USE_CASE',\n",
       "       'ORGANIZATION', 'STATUS', 'INCOME_AMT', 'SPECIAL_CONSIDERATIONS',\n",
       "       'ASK_AMT', 'IS_SUCCESSFUL'],\n",
       "      dtype='object')"
      ]
     },
     "execution_count": 6,
     "metadata": {},
     "output_type": "execute_result"
    }
   ],
   "source": [
    "application_df.columns"
   ]
  },
  {
   "cell_type": "code",
   "execution_count": 7,
   "metadata": {},
   "outputs": [
    {
     "name": "stdout",
     "output_type": "stream",
     "text": [
      "<class 'pandas.core.frame.DataFrame'>\n",
      "RangeIndex: 34299 entries, 0 to 34298\n",
      "Data columns (total 10 columns):\n",
      " #   Column                  Non-Null Count  Dtype \n",
      "---  ------                  --------------  ----- \n",
      " 0   APPLICATION_TYPE        34299 non-null  object\n",
      " 1   AFFILIATION             34299 non-null  object\n",
      " 2   CLASSIFICATION          34299 non-null  object\n",
      " 3   USE_CASE                34299 non-null  object\n",
      " 4   ORGANIZATION            34299 non-null  object\n",
      " 5   STATUS                  34299 non-null  int64 \n",
      " 6   INCOME_AMT              34299 non-null  object\n",
      " 7   SPECIAL_CONSIDERATIONS  34299 non-null  object\n",
      " 8   ASK_AMT                 34299 non-null  int64 \n",
      " 9   IS_SUCCESSFUL           34299 non-null  int64 \n",
      "dtypes: int64(3), object(7)\n",
      "memory usage: 2.6+ MB\n"
     ]
    }
   ],
   "source": [
    "application_df.info()"
   ]
  },
  {
   "cell_type": "code",
   "execution_count": 8,
   "metadata": {},
   "outputs": [
    {
     "data": {
      "text/plain": [
       "APPLICATION_TYPE            17\n",
       "AFFILIATION                  6\n",
       "CLASSIFICATION              71\n",
       "USE_CASE                     5\n",
       "ORGANIZATION                 4\n",
       "STATUS                       2\n",
       "INCOME_AMT                   9\n",
       "SPECIAL_CONSIDERATIONS       2\n",
       "ASK_AMT                   8747\n",
       "IS_SUCCESSFUL                2\n",
       "dtype: int64"
      ]
     },
     "execution_count": 8,
     "metadata": {},
     "output_type": "execute_result"
    }
   ],
   "source": [
    "# Determine the number of unique values in each column.\n",
    "# for col in application_df:\n",
    "#    print(application_df[col].unique())\n",
    "application_df.nunique()"
   ]
  },
  {
   "cell_type": "code",
   "execution_count": 9,
   "metadata": {},
   "outputs": [
    {
     "data": {
      "text/plain": [
       "T3     27037\n",
       "T4      1542\n",
       "T6      1216\n",
       "T5      1173\n",
       "T19     1065\n",
       "T8       737\n",
       "T7       725\n",
       "T10      528\n",
       "T9       156\n",
       "T13       66\n",
       "T12       27\n",
       "T2        16\n",
       "T25        3\n",
       "T14        3\n",
       "T29        2\n",
       "T15        2\n",
       "T17        1\n",
       "Name: APPLICATION_TYPE, dtype: int64"
      ]
     },
     "execution_count": 9,
     "metadata": {},
     "output_type": "execute_result"
    }
   ],
   "source": [
    "# Look at APPLICATION_TYPE value counts for binning\n",
    "application_counts = application_df[\"APPLICATION_TYPE\"].value_counts()\n",
    "application_counts"
   ]
  },
  {
   "cell_type": "code",
   "execution_count": 10,
   "metadata": {},
   "outputs": [
    {
     "data": {
      "text/plain": [
       "count       17.000000\n",
       "mean      2017.588235\n",
       "std       6468.877251\n",
       "min          1.000000\n",
       "25%          3.000000\n",
       "50%        156.000000\n",
       "75%       1065.000000\n",
       "max      27037.000000\n",
       "Name: APPLICATION_TYPE, dtype: float64"
      ]
     },
     "execution_count": 10,
     "metadata": {},
     "output_type": "execute_result"
    }
   ],
   "source": [
    "application_counts.describe()"
   ]
  },
  {
   "cell_type": "code",
   "execution_count": 11,
   "metadata": {},
   "outputs": [
    {
     "data": {
      "text/plain": [
       "<AxesSubplot:ylabel='Density'>"
      ]
     },
     "execution_count": 11,
     "metadata": {},
     "output_type": "execute_result"
    },
    {
     "data": {
      "image/png": "[encoded data removed]",
      "text/plain": [
       "<Figure size 432x288 with 1 Axes>"
      ]
     },
     "metadata": {
      "needs_background": "light"
     },
     "output_type": "display_data"
    }
   ],
   "source": [
    "# Visualize the value counts of APPLICATION_TYPE\n",
    "application_counts.plot.density()"
   ]
  },
  {
   "cell_type": "code",
   "execution_count": 12,
   "metadata": {},
   "outputs": [],
   "source": [
    "# list(application_counts[application_counts < 500].index)"
   ]
  },
  {
   "cell_type": "code",
   "execution_count": 13,
   "metadata": {},
   "outputs": [
    {
     "data": {
      "text/plain": [
       "T3       27037\n",
       "T4        1542\n",
       "T6        1216\n",
       "T5        1173\n",
       "T19       1065\n",
       "T8         737\n",
       "T7         725\n",
       "T10        528\n",
       "Other      276\n",
       "Name: APPLICATION_TYPE, dtype: int64"
      ]
     },
     "execution_count": 13,
     "metadata": {},
     "output_type": "execute_result"
    }
   ],
   "source": [
    "# Determine which values to replace if counts are less than 500?\n",
    "replace_application = list(application_counts[application_counts < 500].index)\n",
    "\n",
    "# Replace in dataframe\n",
    "for app in replace_application:\n",
    "    application_df.APPLICATION_TYPE = application_df.APPLICATION_TYPE.replace(app,\"Other\")\n",
    "    \n",
    "# Check to make sure binning was successful\n",
    "application_df.APPLICATION_TYPE.value_counts()"
   ]
  },
  {
   "cell_type": "code",
   "execution_count": 14,
   "metadata": {},
   "outputs": [
    {
     "data": {
      "text/plain": [
       "C1000    17326\n",
       "C2000     6074\n",
       "C1200     4837\n",
       "C3000     1918\n",
       "C2100     1883\n",
       "         ...  \n",
       "C4120        1\n",
       "C8210        1\n",
       "C2561        1\n",
       "C4500        1\n",
       "C2150        1\n",
       "Name: CLASSIFICATION, Length: 71, dtype: int64"
      ]
     },
     "execution_count": 14,
     "metadata": {},
     "output_type": "execute_result"
    }
   ],
   "source": [
    "# Look at CLASSIFICATION value counts for binning\n",
    "class_counts = application_df[\"CLASSIFICATION\"].value_counts()\n",
    "class_counts"
   ]
  },
  {
   "cell_type": "code",
   "execution_count": 15,
   "metadata": {},
   "outputs": [
    {
     "data": {
      "text/plain": [
       "<AxesSubplot:ylabel='Density'>"
      ]
     },
     "execution_count": 15,
     "metadata": {},
     "output_type": "execute_result"
    },
    {
     "data": {
      "image/png": "[encoded data removed]",
      "text/plain": [
       "<Figure size 432x288 with 1 Axes>"
      ]
     },
     "metadata": {
      "needs_background": "light"
     },
     "output_type": "display_data"
    }
   ],
   "source": [
    "# Visualize the value counts of CLASSIFICATION\n",
    "class_counts.plot.density()"
   ]
  },
  {
   "cell_type": "code",
   "execution_count": 16,
   "metadata": {},
   "outputs": [
    {
     "data": {
      "text/plain": [
       "C1000    17326\n",
       "C2000     6074\n",
       "C1200     4837\n",
       "Other     2261\n",
       "C3000     1918\n",
       "C2100     1883\n",
       "Name: CLASSIFICATION, dtype: int64"
      ]
     },
     "execution_count": 16,
     "metadata": {},
     "output_type": "execute_result"
    }
   ],
   "source": [
    "# Determine which values to replace if counts are less than ..?\n",
    "replace_class = list(class_counts[class_counts < 1000].index)\n",
    "\n",
    "# Replace in dataframe\n",
    "for cls in replace_class:\n",
    "    application_df.CLASSIFICATION = application_df.CLASSIFICATION.replace(cls,\"Other\")\n",
    "    \n",
    "# Check to make sure binning was successful\n",
    "application_df.CLASSIFICATION.value_counts()"
   ]
  },
  {
   "cell_type": "code",
   "execution_count": 17,
   "metadata": {},
   "outputs": [
    {
     "data": {
      "text/plain": [
       "APPLICATION_TYPE          object\n",
       "AFFILIATION               object\n",
       "CLASSIFICATION            object\n",
       "USE_CASE                  object\n",
       "ORGANIZATION              object\n",
       "INCOME_AMT                object\n",
       "SPECIAL_CONSIDERATIONS    object\n",
       "dtype: object"
      ]
     },
     "execution_count": 17,
     "metadata": {},
     "output_type": "execute_result"
    }
   ],
   "source": [
    "application_df.dtypes[application_df.dtypes == \"object\"]"
   ]
  },
  {
   "cell_type": "code",
   "execution_count": 18,
   "metadata": {},
   "outputs": [
    {
     "data": {
      "text/plain": [
       "['APPLICATION_TYPE',\n",
       " 'AFFILIATION',\n",
       " 'CLASSIFICATION',\n",
       " 'USE_CASE',\n",
       " 'ORGANIZATION',\n",
       " 'INCOME_AMT',\n",
       " 'SPECIAL_CONSIDERATIONS']"
      ]
     },
     "execution_count": 18,
     "metadata": {},
     "output_type": "execute_result"
    }
   ],
   "source": [
    "# Generate our categorical variable lists\n",
    "application_cat = application_df.dtypes[application_df.dtypes == \"object\"].index.tolist()\n",
    "application_cat"
   ]
  },
  {
   "cell_type": "code",
   "execution_count": 19,
   "metadata": {},
   "outputs": [
    {
     "data": {
      "text/html": [
       "<div>\n",
       "<style scoped>\n",
       "    .dataframe tbody tr th:only-of-type {\n",
       "        vertical-align: middle;\n",
       "    }\n",
       "\n",
       "    .dataframe tbody tr th {\n",
       "        vertical-align: top;\n",
       "    }\n",
       "\n",
       "    .dataframe thead th {\n",
       "        text-align: right;\n",
       "    }\n",
       "</style>\n",
       "<table border=\"1\" class=\"dataframe\">\n",
       "  <thead>\n",
       "    <tr style=\"text-align: right;\">\n",
       "      <th></th>\n",
       "      <th>APPLICATION_TYPE</th>\n",
       "      <th>AFFILIATION</th>\n",
       "      <th>CLASSIFICATION</th>\n",
       "      <th>USE_CASE</th>\n",
       "      <th>ORGANIZATION</th>\n",
       "      <th>INCOME_AMT</th>\n",
       "      <th>SPECIAL_CONSIDERATIONS</th>\n",
       "    </tr>\n",
       "  </thead>\n",
       "  <tbody>\n",
       "    <tr>\n",
       "      <th>0</th>\n",
       "      <td>T10</td>\n",
       "      <td>Independent</td>\n",
       "      <td>C1000</td>\n",
       "      <td>ProductDev</td>\n",
       "      <td>Association</td>\n",
       "      <td>0</td>\n",
       "      <td>N</td>\n",
       "    </tr>\n",
       "    <tr>\n",
       "      <th>1</th>\n",
       "      <td>T3</td>\n",
       "      <td>Independent</td>\n",
       "      <td>C2000</td>\n",
       "      <td>Preservation</td>\n",
       "      <td>Co-operative</td>\n",
       "      <td>1-9999</td>\n",
       "      <td>N</td>\n",
       "    </tr>\n",
       "    <tr>\n",
       "      <th>2</th>\n",
       "      <td>T5</td>\n",
       "      <td>CompanySponsored</td>\n",
       "      <td>C3000</td>\n",
       "      <td>ProductDev</td>\n",
       "      <td>Association</td>\n",
       "      <td>0</td>\n",
       "      <td>N</td>\n",
       "    </tr>\n",
       "    <tr>\n",
       "      <th>3</th>\n",
       "      <td>T3</td>\n",
       "      <td>CompanySponsored</td>\n",
       "      <td>C2000</td>\n",
       "      <td>Preservation</td>\n",
       "      <td>Trust</td>\n",
       "      <td>10000-24999</td>\n",
       "      <td>N</td>\n",
       "    </tr>\n",
       "    <tr>\n",
       "      <th>4</th>\n",
       "      <td>T3</td>\n",
       "      <td>Independent</td>\n",
       "      <td>C1000</td>\n",
       "      <td>Heathcare</td>\n",
       "      <td>Trust</td>\n",
       "      <td>100000-499999</td>\n",
       "      <td>N</td>\n",
       "    </tr>\n",
       "    <tr>\n",
       "      <th>...</th>\n",
       "      <td>...</td>\n",
       "      <td>...</td>\n",
       "      <td>...</td>\n",
       "      <td>...</td>\n",
       "      <td>...</td>\n",
       "      <td>...</td>\n",
       "      <td>...</td>\n",
       "    </tr>\n",
       "    <tr>\n",
       "      <th>34294</th>\n",
       "      <td>T4</td>\n",
       "      <td>Independent</td>\n",
       "      <td>C1000</td>\n",
       "      <td>ProductDev</td>\n",
       "      <td>Association</td>\n",
       "      <td>0</td>\n",
       "      <td>N</td>\n",
       "    </tr>\n",
       "    <tr>\n",
       "      <th>34295</th>\n",
       "      <td>T4</td>\n",
       "      <td>CompanySponsored</td>\n",
       "      <td>C3000</td>\n",
       "      <td>ProductDev</td>\n",
       "      <td>Association</td>\n",
       "      <td>0</td>\n",
       "      <td>N</td>\n",
       "    </tr>\n",
       "    <tr>\n",
       "      <th>34296</th>\n",
       "      <td>T3</td>\n",
       "      <td>CompanySponsored</td>\n",
       "      <td>C2000</td>\n",
       "      <td>Preservation</td>\n",
       "      <td>Association</td>\n",
       "      <td>0</td>\n",
       "      <td>N</td>\n",
       "    </tr>\n",
       "    <tr>\n",
       "      <th>34297</th>\n",
       "      <td>T5</td>\n",
       "      <td>Independent</td>\n",
       "      <td>C3000</td>\n",
       "      <td>ProductDev</td>\n",
       "      <td>Association</td>\n",
       "      <td>0</td>\n",
       "      <td>N</td>\n",
       "    </tr>\n",
       "    <tr>\n",
       "      <th>34298</th>\n",
       "      <td>T3</td>\n",
       "      <td>Independent</td>\n",
       "      <td>C1000</td>\n",
       "      <td>Preservation</td>\n",
       "      <td>Co-operative</td>\n",
       "      <td>1M-5M</td>\n",
       "      <td>N</td>\n",
       "    </tr>\n",
       "  </tbody>\n",
       "</table>\n",
       "<p>34299 rows × 7 columns</p>\n",
       "</div>"
      ],
      "text/plain": [
       "      APPLICATION_TYPE       AFFILIATION CLASSIFICATION      USE_CASE  \\\n",
       "0                  T10       Independent          C1000    ProductDev   \n",
       "1                   T3       Independent          C2000  Preservation   \n",
       "2                   T5  CompanySponsored          C3000    ProductDev   \n",
       "3                   T3  CompanySponsored          C2000  Preservation   \n",
       "4                   T3       Independent          C1000     Heathcare   \n",
       "...                ...               ...            ...           ...   \n",
       "34294               T4       Independent          C1000    ProductDev   \n",
       "34295               T4  CompanySponsored          C3000    ProductDev   \n",
       "34296               T3  CompanySponsored          C2000  Preservation   \n",
       "34297               T5       Independent          C3000    ProductDev   \n",
       "34298               T3       Independent          C1000  Preservation   \n",
       "\n",
       "       ORGANIZATION     INCOME_AMT SPECIAL_CONSIDERATIONS  \n",
       "0       Association              0                      N  \n",
       "1      Co-operative         1-9999                      N  \n",
       "2       Association              0                      N  \n",
       "3             Trust    10000-24999                      N  \n",
       "4             Trust  100000-499999                      N  \n",
       "...             ...            ...                    ...  \n",
       "34294   Association              0                      N  \n",
       "34295   Association              0                      N  \n",
       "34296   Association              0                      N  \n",
       "34297   Association              0                      N  \n",
       "34298  Co-operative          1M-5M                      N  \n",
       "\n",
       "[34299 rows x 7 columns]"
      ]
     },
     "execution_count": 19,
     "metadata": {},
     "output_type": "execute_result"
    }
   ],
   "source": [
    "application_df[application_cat]"
   ]
  },
  {
   "cell_type": "code",
   "execution_count": 20,
   "metadata": {},
   "outputs": [
    {
     "name": "stderr",
     "output_type": "stream",
     "text": [
      "C:\\Users\\Kaalrok\\anaconda3_1\\envs\\mlenv\\lib\\site-packages\\sklearn\\utils\\deprecation.py:87: FutureWarning: Function get_feature_names is deprecated; get_feature_names is deprecated in 1.0 and will be removed in 1.2. Please use get_feature_names_out instead.\n",
      "  warnings.warn(msg, category=FutureWarning)\n"
     ]
    },
    {
     "data": {
      "text/html": [
       "<div>\n",
       "<style scoped>\n",
       "    .dataframe tbody tr th:only-of-type {\n",
       "        vertical-align: middle;\n",
       "    }\n",
       "\n",
       "    .dataframe tbody tr th {\n",
       "        vertical-align: top;\n",
       "    }\n",
       "\n",
       "    .dataframe thead th {\n",
       "        text-align: right;\n",
       "    }\n",
       "</style>\n",
       "<table border=\"1\" class=\"dataframe\">\n",
       "  <thead>\n",
       "    <tr style=\"text-align: right;\">\n",
       "      <th></th>\n",
       "      <th>APPLICATION_TYPE_Other</th>\n",
       "      <th>APPLICATION_TYPE_T10</th>\n",
       "      <th>APPLICATION_TYPE_T19</th>\n",
       "      <th>APPLICATION_TYPE_T3</th>\n",
       "      <th>APPLICATION_TYPE_T4</th>\n",
       "      <th>APPLICATION_TYPE_T5</th>\n",
       "      <th>APPLICATION_TYPE_T6</th>\n",
       "      <th>APPLICATION_TYPE_T7</th>\n",
       "      <th>APPLICATION_TYPE_T8</th>\n",
       "      <th>AFFILIATION_CompanySponsored</th>\n",
       "      <th>...</th>\n",
       "      <th>INCOME_AMT_1-9999</th>\n",
       "      <th>INCOME_AMT_10000-24999</th>\n",
       "      <th>INCOME_AMT_100000-499999</th>\n",
       "      <th>INCOME_AMT_10M-50M</th>\n",
       "      <th>INCOME_AMT_1M-5M</th>\n",
       "      <th>INCOME_AMT_25000-99999</th>\n",
       "      <th>INCOME_AMT_50M+</th>\n",
       "      <th>INCOME_AMT_5M-10M</th>\n",
       "      <th>SPECIAL_CONSIDERATIONS_N</th>\n",
       "      <th>SPECIAL_CONSIDERATIONS_Y</th>\n",
       "    </tr>\n",
       "  </thead>\n",
       "  <tbody>\n",
       "    <tr>\n",
       "      <th>0</th>\n",
       "      <td>0.0</td>\n",
       "      <td>1.0</td>\n",
       "      <td>0.0</td>\n",
       "      <td>0.0</td>\n",
       "      <td>0.0</td>\n",
       "      <td>0.0</td>\n",
       "      <td>0.0</td>\n",
       "      <td>0.0</td>\n",
       "      <td>0.0</td>\n",
       "      <td>0.0</td>\n",
       "      <td>...</td>\n",
       "      <td>0.0</td>\n",
       "      <td>0.0</td>\n",
       "      <td>0.0</td>\n",
       "      <td>0.0</td>\n",
       "      <td>0.0</td>\n",
       "      <td>0.0</td>\n",
       "      <td>0.0</td>\n",
       "      <td>0.0</td>\n",
       "      <td>1.0</td>\n",
       "      <td>0.0</td>\n",
       "    </tr>\n",
       "    <tr>\n",
       "      <th>1</th>\n",
       "      <td>0.0</td>\n",
       "      <td>0.0</td>\n",
       "      <td>0.0</td>\n",
       "      <td>1.0</td>\n",
       "      <td>0.0</td>\n",
       "      <td>0.0</td>\n",
       "      <td>0.0</td>\n",
       "      <td>0.0</td>\n",
       "      <td>0.0</td>\n",
       "      <td>0.0</td>\n",
       "      <td>...</td>\n",
       "      <td>1.0</td>\n",
       "      <td>0.0</td>\n",
       "      <td>0.0</td>\n",
       "      <td>0.0</td>\n",
       "      <td>0.0</td>\n",
       "      <td>0.0</td>\n",
       "      <td>0.0</td>\n",
       "      <td>0.0</td>\n",
       "      <td>1.0</td>\n",
       "      <td>0.0</td>\n",
       "    </tr>\n",
       "    <tr>\n",
       "      <th>2</th>\n",
       "      <td>0.0</td>\n",
       "      <td>0.0</td>\n",
       "      <td>0.0</td>\n",
       "      <td>0.0</td>\n",
       "      <td>0.0</td>\n",
       "      <td>1.0</td>\n",
       "      <td>0.0</td>\n",
       "      <td>0.0</td>\n",
       "      <td>0.0</td>\n",
       "      <td>1.0</td>\n",
       "      <td>...</td>\n",
       "      <td>0.0</td>\n",
       "      <td>0.0</td>\n",
       "      <td>0.0</td>\n",
       "      <td>0.0</td>\n",
       "      <td>0.0</td>\n",
       "      <td>0.0</td>\n",
       "      <td>0.0</td>\n",
       "      <td>0.0</td>\n",
       "      <td>1.0</td>\n",
       "      <td>0.0</td>\n",
       "    </tr>\n",
       "    <tr>\n",
       "      <th>3</th>\n",
       "      <td>0.0</td>\n",
       "      <td>0.0</td>\n",
       "      <td>0.0</td>\n",
       "      <td>1.0</td>\n",
       "      <td>0.0</td>\n",
       "      <td>0.0</td>\n",
       "      <td>0.0</td>\n",
       "      <td>0.0</td>\n",
       "      <td>0.0</td>\n",
       "      <td>1.0</td>\n",
       "      <td>...</td>\n",
       "      <td>0.0</td>\n",
       "      <td>1.0</td>\n",
       "      <td>0.0</td>\n",
       "      <td>0.0</td>\n",
       "      <td>0.0</td>\n",
       "      <td>0.0</td>\n",
       "      <td>0.0</td>\n",
       "      <td>0.0</td>\n",
       "      <td>1.0</td>\n",
       "      <td>0.0</td>\n",
       "    </tr>\n",
       "    <tr>\n",
       "      <th>4</th>\n",
       "      <td>0.0</td>\n",
       "      <td>0.0</td>\n",
       "      <td>0.0</td>\n",
       "      <td>1.0</td>\n",
       "      <td>0.0</td>\n",
       "      <td>0.0</td>\n",
       "      <td>0.0</td>\n",
       "      <td>0.0</td>\n",
       "      <td>0.0</td>\n",
       "      <td>0.0</td>\n",
       "      <td>...</td>\n",
       "      <td>0.0</td>\n",
       "      <td>0.0</td>\n",
       "      <td>1.0</td>\n",
       "      <td>0.0</td>\n",
       "      <td>0.0</td>\n",
       "      <td>0.0</td>\n",
       "      <td>0.0</td>\n",
       "      <td>0.0</td>\n",
       "      <td>1.0</td>\n",
       "      <td>0.0</td>\n",
       "    </tr>\n",
       "  </tbody>\n",
       "</table>\n",
       "<p>5 rows × 41 columns</p>\n",
       "</div>"
      ],
      "text/plain": [
       "   APPLICATION_TYPE_Other  APPLICATION_TYPE_T10  APPLICATION_TYPE_T19  \\\n",
       "0                     0.0                   1.0                   0.0   \n",
       "1                     0.0                   0.0                   0.0   \n",
       "2                     0.0                   0.0                   0.0   \n",
       "3                     0.0                   0.0                   0.0   \n",
       "4                     0.0                   0.0                   0.0   \n",
       "\n",
       "   APPLICATION_TYPE_T3  APPLICATION_TYPE_T4  APPLICATION_TYPE_T5  \\\n",
       "0                  0.0                  0.0                  0.0   \n",
       "1                  1.0                  0.0                  0.0   \n",
       "2                  0.0                  0.0                  1.0   \n",
       "3                  1.0                  0.0                  0.0   \n",
       "4                  1.0                  0.0                  0.0   \n",
       "\n",
       "   APPLICATION_TYPE_T6  APPLICATION_TYPE_T7  APPLICATION_TYPE_T8  \\\n",
       "0                  0.0                  0.0                  0.0   \n",
       "1                  0.0                  0.0                  0.0   \n",
       "2                  0.0                  0.0                  0.0   \n",
       "3                  0.0                  0.0                  0.0   \n",
       "4                  0.0                  0.0                  0.0   \n",
       "\n",
       "   AFFILIATION_CompanySponsored  ...  INCOME_AMT_1-9999  \\\n",
       "0                           0.0  ...                0.0   \n",
       "1                           0.0  ...                1.0   \n",
       "2                           1.0  ...                0.0   \n",
       "3                           1.0  ...                0.0   \n",
       "4                           0.0  ...                0.0   \n",
       "\n",
       "   INCOME_AMT_10000-24999  INCOME_AMT_100000-499999  INCOME_AMT_10M-50M  \\\n",
       "0                     0.0                       0.0                 0.0   \n",
       "1                     0.0                       0.0                 0.0   \n",
       "2                     0.0                       0.0                 0.0   \n",
       "3                     1.0                       0.0                 0.0   \n",
       "4                     0.0                       1.0                 0.0   \n",
       "\n",
       "   INCOME_AMT_1M-5M  INCOME_AMT_25000-99999  INCOME_AMT_50M+  \\\n",
       "0               0.0                     0.0              0.0   \n",
       "1               0.0                     0.0              0.0   \n",
       "2               0.0                     0.0              0.0   \n",
       "3               0.0                     0.0              0.0   \n",
       "4               0.0                     0.0              0.0   \n",
       "\n",
       "   INCOME_AMT_5M-10M  SPECIAL_CONSIDERATIONS_N  SPECIAL_CONSIDERATIONS_Y  \n",
       "0                0.0                       1.0                       0.0  \n",
       "1                0.0                       1.0                       0.0  \n",
       "2                0.0                       1.0                       0.0  \n",
       "3                0.0                       1.0                       0.0  \n",
       "4                0.0                       1.0                       0.0  \n",
       "\n",
       "[5 rows x 41 columns]"
      ]
     },
     "execution_count": 20,
     "metadata": {},
     "output_type": "execute_result"
    }
   ],
   "source": [
    "# Create a OneHotEncoder instance\n",
    "enc = OneHotEncoder(sparse=False)\n",
    "\n",
    "# Fit and transform the OneHotEncoder using the categorical variable list\n",
    "encode_df = pd.DataFrame(enc.fit_transform(application_df[application_cat]))\n",
    "\n",
    "\n",
    "# Add the encoded variable names to the dataframe\n",
    "encode_df.columns = enc.get_feature_names(application_cat)\n",
    "encode_df.head()"
   ]
  },
  {
   "cell_type": "code",
   "execution_count": 21,
   "metadata": {},
   "outputs": [
    {
     "data": {
      "text/html": [
       "<div>\n",
       "<style scoped>\n",
       "    .dataframe tbody tr th:only-of-type {\n",
       "        vertical-align: middle;\n",
       "    }\n",
       "\n",
       "    .dataframe tbody tr th {\n",
       "        vertical-align: top;\n",
       "    }\n",
       "\n",
       "    .dataframe thead th {\n",
       "        text-align: right;\n",
       "    }\n",
       "</style>\n",
       "<table border=\"1\" class=\"dataframe\">\n",
       "  <thead>\n",
       "    <tr style=\"text-align: right;\">\n",
       "      <th></th>\n",
       "      <th>STATUS</th>\n",
       "      <th>ASK_AMT</th>\n",
       "      <th>IS_SUCCESSFUL</th>\n",
       "      <th>APPLICATION_TYPE_Other</th>\n",
       "      <th>APPLICATION_TYPE_T10</th>\n",
       "      <th>APPLICATION_TYPE_T19</th>\n",
       "      <th>APPLICATION_TYPE_T3</th>\n",
       "      <th>APPLICATION_TYPE_T4</th>\n",
       "      <th>APPLICATION_TYPE_T5</th>\n",
       "      <th>APPLICATION_TYPE_T6</th>\n",
       "      <th>...</th>\n",
       "      <th>INCOME_AMT_1-9999</th>\n",
       "      <th>INCOME_AMT_10000-24999</th>\n",
       "      <th>INCOME_AMT_100000-499999</th>\n",
       "      <th>INCOME_AMT_10M-50M</th>\n",
       "      <th>INCOME_AMT_1M-5M</th>\n",
       "      <th>INCOME_AMT_25000-99999</th>\n",
       "      <th>INCOME_AMT_50M+</th>\n",
       "      <th>INCOME_AMT_5M-10M</th>\n",
       "      <th>SPECIAL_CONSIDERATIONS_N</th>\n",
       "      <th>SPECIAL_CONSIDERATIONS_Y</th>\n",
       "    </tr>\n",
       "  </thead>\n",
       "  <tbody>\n",
       "    <tr>\n",
       "      <th>0</th>\n",
       "      <td>1</td>\n",
       "      <td>5000</td>\n",
       "      <td>1</td>\n",
       "      <td>0.0</td>\n",
       "      <td>1.0</td>\n",
       "      <td>0.0</td>\n",
       "      <td>0.0</td>\n",
       "      <td>0.0</td>\n",
       "      <td>0.0</td>\n",
       "      <td>0.0</td>\n",
       "      <td>...</td>\n",
       "      <td>0.0</td>\n",
       "      <td>0.0</td>\n",
       "      <td>0.0</td>\n",
       "      <td>0.0</td>\n",
       "      <td>0.0</td>\n",
       "      <td>0.0</td>\n",
       "      <td>0.0</td>\n",
       "      <td>0.0</td>\n",
       "      <td>1.0</td>\n",
       "      <td>0.0</td>\n",
       "    </tr>\n",
       "    <tr>\n",
       "      <th>1</th>\n",
       "      <td>1</td>\n",
       "      <td>108590</td>\n",
       "      <td>1</td>\n",
       "      <td>0.0</td>\n",
       "      <td>0.0</td>\n",
       "      <td>0.0</td>\n",
       "      <td>1.0</td>\n",
       "      <td>0.0</td>\n",
       "      <td>0.0</td>\n",
       "      <td>0.0</td>\n",
       "      <td>...</td>\n",
       "      <td>1.0</td>\n",
       "      <td>0.0</td>\n",
       "      <td>0.0</td>\n",
       "      <td>0.0</td>\n",
       "      <td>0.0</td>\n",
       "      <td>0.0</td>\n",
       "      <td>0.0</td>\n",
       "      <td>0.0</td>\n",
       "      <td>1.0</td>\n",
       "      <td>0.0</td>\n",
       "    </tr>\n",
       "    <tr>\n",
       "      <th>2</th>\n",
       "      <td>1</td>\n",
       "      <td>5000</td>\n",
       "      <td>0</td>\n",
       "      <td>0.0</td>\n",
       "      <td>0.0</td>\n",
       "      <td>0.0</td>\n",
       "      <td>0.0</td>\n",
       "      <td>0.0</td>\n",
       "      <td>1.0</td>\n",
       "      <td>0.0</td>\n",
       "      <td>...</td>\n",
       "      <td>0.0</td>\n",
       "      <td>0.0</td>\n",
       "      <td>0.0</td>\n",
       "      <td>0.0</td>\n",
       "      <td>0.0</td>\n",
       "      <td>0.0</td>\n",
       "      <td>0.0</td>\n",
       "      <td>0.0</td>\n",
       "      <td>1.0</td>\n",
       "      <td>0.0</td>\n",
       "    </tr>\n",
       "    <tr>\n",
       "      <th>3</th>\n",
       "      <td>1</td>\n",
       "      <td>6692</td>\n",
       "      <td>1</td>\n",
       "      <td>0.0</td>\n",
       "      <td>0.0</td>\n",
       "      <td>0.0</td>\n",
       "      <td>1.0</td>\n",
       "      <td>0.0</td>\n",
       "      <td>0.0</td>\n",
       "      <td>0.0</td>\n",
       "      <td>...</td>\n",
       "      <td>0.0</td>\n",
       "      <td>1.0</td>\n",
       "      <td>0.0</td>\n",
       "      <td>0.0</td>\n",
       "      <td>0.0</td>\n",
       "      <td>0.0</td>\n",
       "      <td>0.0</td>\n",
       "      <td>0.0</td>\n",
       "      <td>1.0</td>\n",
       "      <td>0.0</td>\n",
       "    </tr>\n",
       "    <tr>\n",
       "      <th>4</th>\n",
       "      <td>1</td>\n",
       "      <td>142590</td>\n",
       "      <td>1</td>\n",
       "      <td>0.0</td>\n",
       "      <td>0.0</td>\n",
       "      <td>0.0</td>\n",
       "      <td>1.0</td>\n",
       "      <td>0.0</td>\n",
       "      <td>0.0</td>\n",
       "      <td>0.0</td>\n",
       "      <td>...</td>\n",
       "      <td>0.0</td>\n",
       "      <td>0.0</td>\n",
       "      <td>1.0</td>\n",
       "      <td>0.0</td>\n",
       "      <td>0.0</td>\n",
       "      <td>0.0</td>\n",
       "      <td>0.0</td>\n",
       "      <td>0.0</td>\n",
       "      <td>1.0</td>\n",
       "      <td>0.0</td>\n",
       "    </tr>\n",
       "  </tbody>\n",
       "</table>\n",
       "<p>5 rows × 44 columns</p>\n",
       "</div>"
      ],
      "text/plain": [
       "   STATUS  ASK_AMT  IS_SUCCESSFUL  APPLICATION_TYPE_Other  \\\n",
       "0       1     5000              1                     0.0   \n",
       "1       1   108590              1                     0.0   \n",
       "2       1     5000              0                     0.0   \n",
       "3       1     6692              1                     0.0   \n",
       "4       1   142590              1                     0.0   \n",
       "\n",
       "   APPLICATION_TYPE_T10  APPLICATION_TYPE_T19  APPLICATION_TYPE_T3  \\\n",
       "0                   1.0                   0.0                  0.0   \n",
       "1                   0.0                   0.0                  1.0   \n",
       "2                   0.0                   0.0                  0.0   \n",
       "3                   0.0                   0.0                  1.0   \n",
       "4                   0.0                   0.0                  1.0   \n",
       "\n",
       "   APPLICATION_TYPE_T4  APPLICATION_TYPE_T5  APPLICATION_TYPE_T6  ...  \\\n",
       "0                  0.0                  0.0                  0.0  ...   \n",
       "1                  0.0                  0.0                  0.0  ...   \n",
       "2                  0.0                  1.0                  0.0  ...   \n",
       "3                  0.0                  0.0                  0.0  ...   \n",
       "4                  0.0                  0.0                  0.0  ...   \n",
       "\n",
       "   INCOME_AMT_1-9999  INCOME_AMT_10000-24999  INCOME_AMT_100000-499999  \\\n",
       "0                0.0                     0.0                       0.0   \n",
       "1                1.0                     0.0                       0.0   \n",
       "2                0.0                     0.0                       0.0   \n",
       "3                0.0                     1.0                       0.0   \n",
       "4                0.0                     0.0                       1.0   \n",
       "\n",
       "   INCOME_AMT_10M-50M  INCOME_AMT_1M-5M  INCOME_AMT_25000-99999  \\\n",
       "0                 0.0               0.0                     0.0   \n",
       "1                 0.0               0.0                     0.0   \n",
       "2                 0.0               0.0                     0.0   \n",
       "3                 0.0               0.0                     0.0   \n",
       "4                 0.0               0.0                     0.0   \n",
       "\n",
       "   INCOME_AMT_50M+  INCOME_AMT_5M-10M  SPECIAL_CONSIDERATIONS_N  \\\n",
       "0              0.0                0.0                       1.0   \n",
       "1              0.0                0.0                       1.0   \n",
       "2              0.0                0.0                       1.0   \n",
       "3              0.0                0.0                       1.0   \n",
       "4              0.0                0.0                       1.0   \n",
       "\n",
       "   SPECIAL_CONSIDERATIONS_Y  \n",
       "0                       0.0  \n",
       "1                       0.0  \n",
       "2                       0.0  \n",
       "3                       0.0  \n",
       "4                       0.0  \n",
       "\n",
       "[5 rows x 44 columns]"
      ]
     },
     "execution_count": 21,
     "metadata": {},
     "output_type": "execute_result"
    }
   ],
   "source": [
    "# Merge one-hot encoded features and drop the originals\n",
    "#  YOUR CODE GOES HERE\n",
    "#  Merge application_cat with application_df\n",
    "application_df = application_df.merge(encode_df, left_index = True, right_index = True)\n",
    "application_df = application_df.drop(columns=application_cat)\n",
    "application_df.head()"
   ]
  },
  {
   "cell_type": "code",
   "execution_count": 22,
   "metadata": {},
   "outputs": [
    {
     "data": {
      "text/plain": [
       "(34299, 44)"
      ]
     },
     "execution_count": 22,
     "metadata": {},
     "output_type": "execute_result"
    }
   ],
   "source": [
    "application_df.shape"
   ]
  },
  {
   "cell_type": "code",
   "execution_count": 23,
   "metadata": {},
   "outputs": [
    {
     "name": "stdout",
     "output_type": "stream",
     "text": [
      "<class 'pandas.core.frame.DataFrame'>\n",
      "RangeIndex: 34299 entries, 0 to 34298\n",
      "Data columns (total 44 columns):\n",
      " #   Column                        Non-Null Count  Dtype  \n",
      "---  ------                        --------------  -----  \n",
      " 0   STATUS                        34299 non-null  int64  \n",
      " 1   ASK_AMT                       34299 non-null  int64  \n",
      " 2   IS_SUCCESSFUL                 34299 non-null  int64  \n",
      " 3   APPLICATION_TYPE_Other        34299 non-null  float64\n",
      " 4   APPLICATION_TYPE_T10          34299 non-null  float64\n",
      " 5   APPLICATION_TYPE_T19          34299 non-null  float64\n",
      " 6   APPLICATION_TYPE_T3           34299 non-null  float64\n",
      " 7   APPLICATION_TYPE_T4           34299 non-null  float64\n",
      " 8   APPLICATION_TYPE_T5           34299 non-null  float64\n",
      " 9   APPLICATION_TYPE_T6           34299 non-null  float64\n",
      " 10  APPLICATION_TYPE_T7           34299 non-null  float64\n",
      " 11  APPLICATION_TYPE_T8           34299 non-null  float64\n",
      " 12  AFFILIATION_CompanySponsored  34299 non-null  float64\n",
      " 13  AFFILIATION_Family/Parent     34299 non-null  float64\n",
      " 14  AFFILIATION_Independent       34299 non-null  float64\n",
      " 15  AFFILIATION_National          34299 non-null  float64\n",
      " 16  AFFILIATION_Other             34299 non-null  float64\n",
      " 17  AFFILIATION_Regional          34299 non-null  float64\n",
      " 18  CLASSIFICATION_C1000          34299 non-null  float64\n",
      " 19  CLASSIFICATION_C1200          34299 non-null  float64\n",
      " 20  CLASSIFICATION_C2000          34299 non-null  float64\n",
      " 21  CLASSIFICATION_C2100          34299 non-null  float64\n",
      " 22  CLASSIFICATION_C3000          34299 non-null  float64\n",
      " 23  CLASSIFICATION_Other          34299 non-null  float64\n",
      " 24  USE_CASE_CommunityServ        34299 non-null  float64\n",
      " 25  USE_CASE_Heathcare            34299 non-null  float64\n",
      " 26  USE_CASE_Other                34299 non-null  float64\n",
      " 27  USE_CASE_Preservation         34299 non-null  float64\n",
      " 28  USE_CASE_ProductDev           34299 non-null  float64\n",
      " 29  ORGANIZATION_Association      34299 non-null  float64\n",
      " 30  ORGANIZATION_Co-operative     34299 non-null  float64\n",
      " 31  ORGANIZATION_Corporation      34299 non-null  float64\n",
      " 32  ORGANIZATION_Trust            34299 non-null  float64\n",
      " 33  INCOME_AMT_0                  34299 non-null  float64\n",
      " 34  INCOME_AMT_1-9999             34299 non-null  float64\n",
      " 35  INCOME_AMT_10000-24999        34299 non-null  float64\n",
      " 36  INCOME_AMT_100000-499999      34299 non-null  float64\n",
      " 37  INCOME_AMT_10M-50M            34299 non-null  float64\n",
      " 38  INCOME_AMT_1M-5M              34299 non-null  float64\n",
      " 39  INCOME_AMT_25000-99999        34299 non-null  float64\n",
      " 40  INCOME_AMT_50M+               34299 non-null  float64\n",
      " 41  INCOME_AMT_5M-10M             34299 non-null  float64\n",
      " 42  SPECIAL_CONSIDERATIONS_N      34299 non-null  float64\n",
      " 43  SPECIAL_CONSIDERATIONS_Y      34299 non-null  float64\n",
      "dtypes: float64(41), int64(3)\n",
      "memory usage: 11.5 MB\n"
     ]
    }
   ],
   "source": [
    "application_df.info()"
   ]
  },
  {
   "cell_type": "code",
   "execution_count": 24,
   "metadata": {},
   "outputs": [
    {
     "data": {
      "text/plain": [
       "array([[1.0000000e+00, 5.0000000e+03, 0.0000000e+00, ..., 0.0000000e+00,\n",
       "        1.0000000e+00, 0.0000000e+00],\n",
       "       [1.0000000e+00, 1.0859000e+05, 0.0000000e+00, ..., 0.0000000e+00,\n",
       "        1.0000000e+00, 0.0000000e+00],\n",
       "       [1.0000000e+00, 5.0000000e+03, 0.0000000e+00, ..., 0.0000000e+00,\n",
       "        1.0000000e+00, 0.0000000e+00],\n",
       "       ...,\n",
       "       [1.0000000e+00, 5.0000000e+03, 0.0000000e+00, ..., 0.0000000e+00,\n",
       "        1.0000000e+00, 0.0000000e+00],\n",
       "       [1.0000000e+00, 5.0000000e+03, 0.0000000e+00, ..., 0.0000000e+00,\n",
       "        1.0000000e+00, 0.0000000e+00],\n",
       "       [1.0000000e+00, 3.6500179e+07, 0.0000000e+00, ..., 0.0000000e+00,\n",
       "        1.0000000e+00, 0.0000000e+00]])"
      ]
     },
     "execution_count": 24,
     "metadata": {},
     "output_type": "execute_result"
    }
   ],
   "source": [
    "# Split our preprocessed data into our features and target arrays\n",
    "X = application_df.drop(columns=['IS_SUCCESSFUL']).values\n",
    "X"
   ]
  },
  {
   "cell_type": "code",
   "execution_count": 25,
   "metadata": {},
   "outputs": [
    {
     "data": {
      "text/plain": [
       "array([1, 1, 0, ..., 0, 1, 0], dtype=int64)"
      ]
     },
     "execution_count": 25,
     "metadata": {},
     "output_type": "execute_result"
    }
   ],
   "source": [
    "y = application_df[\"IS_SUCCESSFUL\"].values\n",
    "y"
   ]
  },
  {
   "cell_type": "code",
   "execution_count": 26,
   "metadata": {},
   "outputs": [],
   "source": [
    "# Split the preprocessed data into a training and testing dataset\n",
    "X_train, X_test, y_train, y_test = train_test_split(X, y, random_state=78)"
   ]
  },
  {
   "cell_type": "code",
   "execution_count": 27,
   "metadata": {},
   "outputs": [],
   "source": [
    "# Create a StandardScaler instances\n",
    "scaler = StandardScaler()\n",
    "\n",
    "# Fit the StandardScaler\n",
    "X_scaler = scaler.fit(X_train)\n",
    "\n",
    "# Scale the data\n",
    "X_train_scaled = X_scaler.transform(X_train)\n",
    "X_test_scaled = X_scaler.transform(X_test)"
   ]
  },
  {
   "cell_type": "code",
   "execution_count": 28,
   "metadata": {},
   "outputs": [
    {
     "data": {
      "text/plain": [
       "array([], shape=(0, 43), dtype=float64)"
      ]
     },
     "execution_count": 28,
     "metadata": {},
     "output_type": "execute_result"
    }
   ],
   "source": [
    "# testing\n",
    "X_train[ :0]"
   ]
  },
  {
   "cell_type": "markdown",
   "metadata": {},
   "source": [
    "### Deliverable 2: Compile, Train and Evaluate the Model"
   ]
  },
  {
   "cell_type": "code",
   "execution_count": 29,
   "metadata": {},
   "outputs": [
    {
     "data": {
      "text/plain": [
       "43"
      ]
     },
     "execution_count": 29,
     "metadata": {},
     "output_type": "execute_result"
    }
   ],
   "source": [
    "len(X_train[0])"
   ]
  },
  {
   "cell_type": "code",
   "execution_count": 30,
   "metadata": {},
   "outputs": [
    {
     "name": "stdout",
     "output_type": "stream",
     "text": [
      "Model: \"sequential\"\n",
      "_________________________________________________________________\n",
      " Layer (type)                Output Shape              Param #   \n",
      "=================================================================\n",
      " dense (Dense)               (None, 80)                3520      \n",
      "                                                                 \n",
      " dense_1 (Dense)             (None, 50)                4050      \n",
      "                                                                 \n",
      " dense_2 (Dense)             (None, 1)                 51        \n",
      "                                                                 \n",
      "=================================================================\n",
      "Total params: 7,621\n",
      "Trainable params: 7,621\n",
      "Non-trainable params: 0\n",
      "_________________________________________________________________\n"
     ]
    }
   ],
   "source": [
    "# Define the model - deep neural net, i.e., the number of input features and hidden nodes for each layer.\n",
    "number_input_features = len(X_train[0])\n",
    "hidden_nodes_layer1 = 80\n",
    "hidden_nodes_layer2 = 50\n",
    "\n",
    "nn = tf.keras.models.Sequential()\n",
    "\n",
    "# First hidden layer\n",
    "nn.add(\n",
    "    tf.keras.layers.Dense(units=hidden_nodes_layer1, input_dim=number_input_features, activation=\"relu\")\n",
    ")\n",
    "\n",
    "# Second hidden layer\n",
    "nn.add(tf.keras.layers.Dense(units=hidden_nodes_layer2, activation=\"relu\"))\n",
    "\n",
    "# Output layer\n",
    "nn.add(tf.keras.layers.Dense(units=1, activation=\"sigmoid\"))\n",
    "\n",
    "# Check the structure of the model\n",
    "nn.summary()"
   ]
  },
  {
   "cell_type": "markdown",
   "metadata": {},
   "source": [
    "### Implement some checkpoints\n",
    "Create a callback that saves the model's weights every 5 epochs"
   ]
  },
  {
   "cell_type": "code",
   "execution_count": 31,
   "metadata": {},
   "outputs": [],
   "source": [
    "# Import checkpoint dependencies\n",
    "import os\n",
    "from tensorflow.keras.callbacks import ModelCheckpoint\n",
    "\n",
    "# Define the checkpoint path and filenames\n",
    "os.makedirs(\"checkpoints/\",exist_ok=True)\n",
    "checkpoint_path = \"checkpoints/weights.{epoch:02d}.hdf5\""
   ]
  },
  {
   "cell_type": "markdown",
   "metadata": {},
   "source": [
    "### Compile the model"
   ]
  },
  {
   "cell_type": "code",
   "execution_count": 32,
   "metadata": {},
   "outputs": [],
   "source": [
    "# Compile the model\n",
    "nn.compile(loss=\"binary_crossentropy\", optimizer=\"adam\", metrics=[\"accuracy\"])"
   ]
  },
  {
   "cell_type": "code",
   "execution_count": 33,
   "metadata": {},
   "outputs": [],
   "source": [
    "# Create a callback that saves the model's weights every epoch (set to 5)\n",
    "epoch = 5\n",
    "\n",
    "cp_callback = ModelCheckpoint(\n",
    "    filepath=checkpoint_path,\n",
    "    verbose=1,\n",
    "    save_weights_only=True,\n",
    "    save_freq='epoch')"
   ]
  },
  {
   "cell_type": "markdown",
   "metadata": {},
   "source": [
    "### Train the model"
   ]
  },
  {
   "cell_type": "code",
   "execution_count": 34,
   "metadata": {},
   "outputs": [
    {
     "name": "stdout",
     "output_type": "stream",
     "text": [
      "Epoch 1/100\n",
      "797/804 [============================>.] - ETA: 0s - loss: 73944.0625 - accuracy: 0.4860\n",
      "Epoch 1: saving model to checkpoints\\weights.01.hdf5\n",
      "804/804 [==============================] - 1s 650us/step - loss: 100279.5703 - accuracy: 0.4867\n",
      "Epoch 2/100\n",
      "791/804 [============================>.] - ETA: 0s - loss: 53430.3398 - accuracy: 0.4957\n",
      "Epoch 2: saving model to checkpoints\\weights.02.hdf5\n",
      "804/804 [==============================] - 1s 651us/step - loss: 53537.1211 - accuracy: 0.4958\n",
      "Epoch 3/100\n",
      "795/804 [============================>.] - ETA: 0s - loss: 27847.4609 - accuracy: 0.5055\n",
      "Epoch 3: saving model to checkpoints\\weights.03.hdf5\n",
      "804/804 [==============================] - 1s 650us/step - loss: 27550.2305 - accuracy: 0.5061\n",
      "Epoch 4/100\n",
      "797/804 [============================>.] - ETA: 0s - loss: 27147.1660 - accuracy: 0.5033\n",
      "Epoch 4: saving model to checkpoints\\weights.04.hdf5\n",
      "804/804 [==============================] - 1s 647us/step - loss: 26922.4316 - accuracy: 0.5036\n",
      "Epoch 5/100\n",
      "785/804 [============================>.] - ETA: 0s - loss: 14830.3799 - accuracy: 0.5042\n",
      "Epoch 5: saving model to checkpoints\\weights.05.hdf5\n",
      "804/804 [==============================] - 1s 658us/step - loss: 18029.3672 - accuracy: 0.5051\n",
      "Epoch 6/100\n",
      "781/804 [============================>.] - ETA: 0s - loss: 37870.8008 - accuracy: 0.5038\n",
      "Epoch 6: saving model to checkpoints\\weights.06.hdf5\n",
      "804/804 [==============================] - 1s 662us/step - loss: 36985.4531 - accuracy: 0.5031\n",
      "Epoch 7/100\n",
      "745/804 [==========================>...] - ETA: 0s - loss: 23434.7812 - accuracy: 0.5083\n",
      "Epoch 7: saving model to checkpoints\\weights.07.hdf5\n",
      "804/804 [==============================] - 1s 687us/step - loss: 22519.1387 - accuracy: 0.5053\n",
      "Epoch 8/100\n",
      "768/804 [===========================>..] - ETA: 0s - loss: 30898.9297 - accuracy: 0.5176\n",
      "Epoch 8: saving model to checkpoints\\weights.08.hdf5\n",
      "804/804 [==============================] - 1s 672us/step - loss: 29658.8672 - accuracy: 0.5161\n",
      "Epoch 9/100\n",
      "789/804 [============================>.] - ETA: 0s - loss: 13047.7910 - accuracy: 0.5087\n",
      "Epoch 9: saving model to checkpoints\\weights.09.hdf5\n",
      "804/804 [==============================] - 1s 656us/step - loss: 12817.9639 - accuracy: 0.5105\n",
      "Epoch 10/100\n",
      "752/804 [===========================>..] - ETA: 0s - loss: 12731.4922 - accuracy: 0.5093\n",
      "Epoch 10: saving model to checkpoints\\weights.10.hdf5\n",
      "804/804 [==============================] - 1s 687us/step - loss: 11997.4189 - accuracy: 0.5093\n",
      "Epoch 11/100\n",
      "791/804 [============================>.] - ETA: 0s - loss: 24873.9668 - accuracy: 0.5061\n",
      "Epoch 11: saving model to checkpoints\\weights.11.hdf5\n",
      "804/804 [==============================] - 1s 715us/step - loss: 24477.2988 - accuracy: 0.5072\n",
      "Epoch 12/100\n",
      "746/804 [==========================>...] - ETA: 0s - loss: 12840.2910 - accuracy: 0.5076\n",
      "Epoch 12: saving model to checkpoints\\weights.12.hdf5\n",
      "804/804 [==============================] - 1s 749us/step - loss: 11926.0049 - accuracy: 0.5095\n",
      "Epoch 13/100\n",
      "752/804 [===========================>..] - ETA: 0s - loss: 10507.4092 - accuracy: 0.4765\n",
      "Epoch 13: saving model to checkpoints\\weights.13.hdf5\n",
      "804/804 [==============================] - 1s 694us/step - loss: 10763.7871 - accuracy: 0.4774\n",
      "Epoch 14/100\n",
      "753/804 [===========================>..] - ETA: 0s - loss: 5297.3706 - accuracy: 0.5150\n",
      "Epoch 14: saving model to checkpoints\\weights.14.hdf5\n",
      "804/804 [==============================] - 1s 679us/step - loss: 5272.7832 - accuracy: 0.5129\n",
      "Epoch 15/100\n",
      "772/804 [===========================>..] - ETA: 0s - loss: 4337.6084 - accuracy: 0.4957\n",
      "Epoch 15: saving model to checkpoints\\weights.15.hdf5\n",
      "804/804 [==============================] - 1s 667us/step - loss: 4203.3086 - accuracy: 0.4960\n",
      "Epoch 16/100\n",
      "783/804 [============================>.] - ETA: 0s - loss: 4126.0044 - accuracy: 0.4815\n",
      "Epoch 16: saving model to checkpoints\\weights.16.hdf5\n",
      "804/804 [==============================] - 1s 659us/step - loss: 4045.1118 - accuracy: 0.4814\n",
      "Epoch 17/100\n",
      "755/804 [===========================>..] - ETA: 0s - loss: 2146.0969 - accuracy: 0.5160\n",
      "Epoch 17: saving model to checkpoints\\weights.17.hdf5\n",
      "804/804 [==============================] - 1s 686us/step - loss: 2016.2186 - accuracy: 0.5166\n",
      "Epoch 18/100\n",
      "797/804 [============================>.] - ETA: 0s - loss: 12.9821 - accuracy: 0.5280\n",
      "Epoch 18: saving model to checkpoints\\weights.18.hdf5\n",
      "804/804 [==============================] - 1s 843us/step - loss: 12.8770 - accuracy: 0.5282\n",
      "Epoch 19/100\n",
      "799/804 [============================>.] - ETA: 0s - loss: 0.6918 - accuracy: 0.5321\n",
      "Epoch 19: saving model to checkpoints\\weights.19.hdf5\n",
      "804/804 [==============================] - 1s 966us/step - loss: 0.6918 - accuracy: 0.5321\n",
      "Epoch 20/100\n",
      "776/804 [===========================>..] - ETA: 0s - loss: 0.6911 - accuracy: 0.5325\n",
      "Epoch 20: saving model to checkpoints\\weights.20.hdf5\n",
      "804/804 [==============================] - 1s 733us/step - loss: 0.6911 - accuracy: 0.5321\n",
      "Epoch 21/100\n",
      "769/804 [===========================>..] - ETA: 0s - loss: 0.6911 - accuracy: 0.5327\n",
      "Epoch 21: saving model to checkpoints\\weights.21.hdf5\n",
      "804/804 [==============================] - 1s 737us/step - loss: 0.6912 - accuracy: 0.5321\n",
      "Epoch 22/100\n",
      "740/804 [==========================>...] - ETA: 0s - loss: 0.6910 - accuracy: 0.5332\n",
      "Epoch 22: saving model to checkpoints\\weights.22.hdf5\n",
      "804/804 [==============================] - 1s 759us/step - loss: 0.6912 - accuracy: 0.5321\n",
      "Epoch 23/100\n",
      "765/804 [===========================>..] - ETA: 0s - loss: 0.6912 - accuracy: 0.5317\n",
      "Epoch 23: saving model to checkpoints\\weights.23.hdf5\n",
      "804/804 [==============================] - 1s 672us/step - loss: 0.6912 - accuracy: 0.5321\n",
      "Epoch 24/100\n",
      "766/804 [===========================>..] - ETA: 0s - loss: 0.6910 - accuracy: 0.5334\n",
      "Epoch 24: saving model to checkpoints\\weights.24.hdf5\n",
      "804/804 [==============================] - 1s 671us/step - loss: 0.6912 - accuracy: 0.5321\n",
      "Epoch 25/100\n",
      "788/804 [============================>.] - ETA: 0s - loss: 0.6912 - accuracy: 0.5323\n",
      "Epoch 25: saving model to checkpoints\\weights.25.hdf5\n",
      "804/804 [==============================] - 1s 685us/step - loss: 0.6912 - accuracy: 0.5321\n",
      "Epoch 26/100\n",
      "772/804 [===========================>..] - ETA: 0s - loss: 0.6911 - accuracy: 0.5322\n",
      "Epoch 26: saving model to checkpoints\\weights.26.hdf5\n",
      "804/804 [==============================] - 1s 924us/step - loss: 0.6911 - accuracy: 0.5321\n",
      "Epoch 27/100\n",
      "732/804 [==========================>...] - ETA: 0s - loss: 0.6909 - accuracy: 0.5340\n",
      "Epoch 27: saving model to checkpoints\\weights.27.hdf5\n",
      "804/804 [==============================] - 1s 702us/step - loss: 0.6911 - accuracy: 0.5321\n",
      "Epoch 28/100\n",
      "793/804 [============================>.] - ETA: 0s - loss: 0.6913 - accuracy: 0.5319\n",
      "Epoch 28: saving model to checkpoints\\weights.28.hdf5\n",
      "804/804 [==============================] - 1s 1ms/step - loss: 0.6913 - accuracy: 0.5321\n",
      "Epoch 29/100\n",
      "794/804 [============================>.] - ETA: 0s - loss: 0.6912 - accuracy: 0.5326\n",
      "Epoch 29: saving model to checkpoints\\weights.29.hdf5\n",
      "804/804 [==============================] - 2s 2ms/step - loss: 0.6912 - accuracy: 0.5321\n",
      "Epoch 30/100\n",
      "748/804 [==========================>...] - ETA: 0s - loss: 0.6911 - accuracy: 0.5328\n",
      "Epoch 30: saving model to checkpoints\\weights.30.hdf5\n",
      "804/804 [==============================] - 1s 943us/step - loss: 0.6912 - accuracy: 0.5321\n",
      "Epoch 31/100\n",
      "766/804 [===========================>..] - ETA: 0s - loss: 0.6914 - accuracy: 0.5310\n",
      "Epoch 31: saving model to checkpoints\\weights.31.hdf5\n",
      "804/804 [==============================] - 1s 672us/step - loss: 0.6912 - accuracy: 0.5321\n",
      "Epoch 32/100\n",
      "765/804 [===========================>..] - ETA: 0s - loss: 0.6912 - accuracy: 0.5316\n",
      "Epoch 32: saving model to checkpoints\\weights.32.hdf5\n",
      "804/804 [==============================] - 1s 674us/step - loss: 0.6912 - accuracy: 0.5321\n",
      "Epoch 33/100\n",
      "784/804 [============================>.] - ETA: 0s - loss: 0.6912 - accuracy: 0.5326\n",
      "Epoch 33: saving model to checkpoints\\weights.33.hdf5\n",
      "804/804 [==============================] - 1s 660us/step - loss: 0.6912 - accuracy: 0.5321\n",
      "Epoch 34/100\n"
     ]
    },
    {
     "name": "stdout",
     "output_type": "stream",
     "text": [
      "773/804 [===========================>..] - ETA: 0s - loss: 0.6912 - accuracy: 0.5324\n",
      "Epoch 34: saving model to checkpoints\\weights.34.hdf5\n",
      "804/804 [==============================] - 1s 668us/step - loss: 0.6912 - accuracy: 0.5321\n",
      "Epoch 35/100\n",
      "762/804 [===========================>..] - ETA: 0s - loss: 0.6912 - accuracy: 0.5321\n",
      "Epoch 35: saving model to checkpoints\\weights.35.hdf5\n",
      "804/804 [==============================] - 1s 687us/step - loss: 0.6912 - accuracy: 0.5321\n",
      "Epoch 36/100\n",
      "788/804 [============================>.] - ETA: 0s - loss: 0.6912 - accuracy: 0.5320\n",
      "Epoch 36: saving model to checkpoints\\weights.36.hdf5\n",
      "804/804 [==============================] - 1s 718us/step - loss: 0.6912 - accuracy: 0.5321\n",
      "Epoch 37/100\n",
      "768/804 [===========================>..] - ETA: 0s - loss: 0.6911 - accuracy: 0.5328\n",
      "Epoch 37: saving model to checkpoints\\weights.37.hdf5\n",
      "804/804 [==============================] - 1s 733us/step - loss: 0.6911 - accuracy: 0.5321\n",
      "Epoch 38/100\n",
      "782/804 [============================>.] - ETA: 0s - loss: 0.6913 - accuracy: 0.5314\n",
      "Epoch 38: saving model to checkpoints\\weights.38.hdf5\n",
      "804/804 [==============================] - 1s 658us/step - loss: 0.6912 - accuracy: 0.5321\n",
      "Epoch 39/100\n",
      "731/804 [==========================>...] - ETA: 0s - loss: 0.6912 - accuracy: 0.5323\n",
      "Epoch 39: saving model to checkpoints\\weights.39.hdf5\n",
      "804/804 [==============================] - 1s 702us/step - loss: 0.6912 - accuracy: 0.5321\n",
      "Epoch 40/100\n",
      "742/804 [==========================>...] - ETA: 0s - loss: 0.6913 - accuracy: 0.5318\n",
      "Epoch 40: saving model to checkpoints\\weights.40.hdf5\n",
      "804/804 [==============================] - 1s 689us/step - loss: 0.6912 - accuracy: 0.5321\n",
      "Epoch 41/100\n",
      "780/804 [============================>.] - ETA: 0s - loss: 0.6913 - accuracy: 0.5320\n",
      "Epoch 41: saving model to checkpoints\\weights.41.hdf5\n",
      "804/804 [==============================] - 1s 660us/step - loss: 0.6913 - accuracy: 0.5321\n",
      "Epoch 42/100\n",
      "730/804 [==========================>...] - ETA: 0s - loss: 0.6914 - accuracy: 0.5310\n",
      "Epoch 42: saving model to checkpoints\\weights.42.hdf5\n",
      "804/804 [==============================] - 1s 695us/step - loss: 0.6913 - accuracy: 0.5321\n",
      "Epoch 43/100\n",
      "782/804 [============================>.] - ETA: 0s - loss: 0.6913 - accuracy: 0.5322\n",
      "Epoch 43: saving model to checkpoints\\weights.43.hdf5\n",
      "804/804 [==============================] - 1s 660us/step - loss: 0.6913 - accuracy: 0.5321\n",
      "Epoch 44/100\n",
      "780/804 [============================>.] - ETA: 0s - loss: 0.6913 - accuracy: 0.5321\n",
      "Epoch 44: saving model to checkpoints\\weights.44.hdf5\n",
      "804/804 [==============================] - 1s 662us/step - loss: 0.6912 - accuracy: 0.5321\n",
      "Epoch 45/100\n",
      "792/804 [============================>.] - ETA: 0s - loss: 0.6913 - accuracy: 0.5320\n",
      "Epoch 45: saving model to checkpoints\\weights.45.hdf5\n",
      "804/804 [==============================] - 1s 651us/step - loss: 0.6913 - accuracy: 0.5321\n",
      "Epoch 46/100\n",
      "748/804 [==========================>...] - ETA: 0s - loss: 0.6913 - accuracy: 0.5322\n",
      "Epoch 46: saving model to checkpoints\\weights.46.hdf5\n",
      "804/804 [==============================] - 1s 693us/step - loss: 0.6913 - accuracy: 0.5321\n",
      "Epoch 47/100\n",
      "794/804 [============================>.] - ETA: 0s - loss: 0.6913 - accuracy: 0.5321\n",
      "Epoch 47: saving model to checkpoints\\weights.47.hdf5\n",
      "804/804 [==============================] - 1s 718us/step - loss: 0.6913 - accuracy: 0.5321\n",
      "Epoch 48/100\n",
      "798/804 [============================>.] - ETA: 0s - loss: 0.6915 - accuracy: 0.5324\n",
      "Epoch 48: saving model to checkpoints\\weights.48.hdf5\n",
      "804/804 [==============================] - 1s 647us/step - loss: 0.6915 - accuracy: 0.5321\n",
      "Epoch 49/100\n",
      "794/804 [============================>.] - ETA: 0s - loss: 0.6914 - accuracy: 0.5318\n",
      "Epoch 49: saving model to checkpoints\\weights.49.hdf5\n",
      "804/804 [==============================] - 1s 712us/step - loss: 0.6913 - accuracy: 0.5321\n",
      "Epoch 50/100\n",
      "745/804 [==========================>...] - ETA: 0s - loss: 0.6912 - accuracy: 0.5335\n",
      "Epoch 50: saving model to checkpoints\\weights.50.hdf5\n",
      "804/804 [==============================] - 1s 690us/step - loss: 0.6914 - accuracy: 0.5321\n",
      "Epoch 51/100\n",
      "785/804 [============================>.] - ETA: 0s - loss: 0.6914 - accuracy: 0.5316\n",
      "Epoch 51: saving model to checkpoints\\weights.51.hdf5\n",
      "804/804 [==============================] - 1s 656us/step - loss: 0.6914 - accuracy: 0.5321\n",
      "Epoch 52/100\n",
      "726/804 [==========================>...] - ETA: 0s - loss: 0.6915 - accuracy: 0.5316\n",
      "Epoch 52: saving model to checkpoints\\weights.52.hdf5\n",
      "804/804 [==============================] - 1s 640us/step - loss: 0.6915 - accuracy: 0.5321\n",
      "Epoch 53/100\n",
      "769/804 [===========================>..] - ETA: 0s - loss: 0.6913 - accuracy: 0.5324\n",
      "Epoch 53: saving model to checkpoints\\weights.53.hdf5\n",
      "804/804 [==============================] - 1s 670us/step - loss: 0.6913 - accuracy: 0.5321\n",
      "Epoch 54/100\n",
      "783/804 [============================>.] - ETA: 0s - loss: 0.6914 - accuracy: 0.5325\n",
      "Epoch 54: saving model to checkpoints\\weights.54.hdf5\n",
      "804/804 [==============================] - 1s 657us/step - loss: 0.6914 - accuracy: 0.5321\n",
      "Epoch 55/100\n",
      "800/804 [============================>.] - ETA: 0s - loss: 0.6914 - accuracy: 0.5325\n",
      "Epoch 55: saving model to checkpoints\\weights.55.hdf5\n",
      "804/804 [==============================] - 1s 709us/step - loss: 0.6915 - accuracy: 0.5321\n",
      "Epoch 56/100\n",
      "766/804 [===========================>..] - ETA: 0s - loss: 0.6912 - accuracy: 0.5333\n",
      "Epoch 56: saving model to checkpoints\\weights.56.hdf5\n",
      "804/804 [==============================] - 1s 878us/step - loss: 0.6913 - accuracy: 0.5321\n",
      "Epoch 57/100\n",
      "776/804 [===========================>..] - ETA: 0s - loss: 0.6915 - accuracy: 0.5319\n",
      "Epoch 57: saving model to checkpoints\\weights.57.hdf5\n",
      "804/804 [==============================] - 1s 1ms/step - loss: 0.6915 - accuracy: 0.5321\n",
      "Epoch 58/100\n",
      "794/804 [============================>.] - ETA: 0s - loss: 0.6914 - accuracy: 0.5312\n",
      "Epoch 58: saving model to checkpoints\\weights.58.hdf5\n",
      "804/804 [==============================] - 1s 1ms/step - loss: 0.6915 - accuracy: 0.5310\n",
      "Epoch 59/100\n",
      "795/804 [============================>.] - ETA: 0s - loss: 0.6916 - accuracy: 0.5318\n",
      "Epoch 59: saving model to checkpoints\\weights.59.hdf5\n",
      "804/804 [==============================] - 1s 1ms/step - loss: 0.6915 - accuracy: 0.5321\n",
      "Epoch 60/100\n",
      "792/804 [============================>.] - ETA: 0s - loss: 0.6915 - accuracy: 0.5323\n",
      "Epoch 60: saving model to checkpoints\\weights.60.hdf5\n",
      "804/804 [==============================] - 1s 1ms/step - loss: 0.6915 - accuracy: 0.5321\n",
      "Epoch 61/100\n",
      "780/804 [============================>.] - ETA: 0s - loss: 0.6914 - accuracy: 0.5313\n",
      "Epoch 61: saving model to checkpoints\\weights.61.hdf5\n",
      "804/804 [==============================] - 1s 2ms/step - loss: 0.6914 - accuracy: 0.5314\n",
      "Epoch 62/100\n",
      "762/804 [===========================>..] - ETA: 0s - loss: 0.6913 - accuracy: 0.5308\n",
      "Epoch 62: saving model to checkpoints\\weights.62.hdf5\n",
      "804/804 [==============================] - 1s 805us/step - loss: 0.6914 - accuracy: 0.5302\n",
      "Epoch 63/100\n",
      "747/804 [==========================>...] - ETA: 0s - loss: 0.6916 - accuracy: 0.5312\n",
      "Epoch 63: saving model to checkpoints\\weights.63.hdf5\n",
      "804/804 [==============================] - 1s 688us/step - loss: 0.6914 - accuracy: 0.5321\n",
      "Epoch 64/100\n",
      "753/804 [===========================>..] - ETA: 0s - loss: 0.6915 - accuracy: 0.5319\n",
      "Epoch 64: saving model to checkpoints\\weights.64.hdf5\n",
      "804/804 [==============================] - 1s 686us/step - loss: 0.6915 - accuracy: 0.5321\n",
      "Epoch 65/100\n",
      "728/804 [==========================>...] - ETA: 0s - loss: 0.6916 - accuracy: 0.5316\n",
      "Epoch 65: saving model to checkpoints\\weights.65.hdf5\n",
      "804/804 [==============================] - 1s 704us/step - loss: 0.6915 - accuracy: 0.5321\n",
      "Epoch 66/100\n",
      "803/804 [============================>.] - ETA: 0s - loss: 0.6914 - accuracy: 0.5323\n",
      "Epoch 66: saving model to checkpoints\\weights.66.hdf5\n",
      "804/804 [==============================] - 1s 1ms/step - loss: 0.6914 - accuracy: 0.5321\n",
      "Epoch 67/100\n",
      "771/804 [===========================>..] - ETA: 0s - loss: 0.6916 - accuracy: 0.5319\n",
      "Epoch 67: saving model to checkpoints\\weights.67.hdf5\n",
      "804/804 [==============================] - 1s 1ms/step - loss: 0.6915 - accuracy: 0.5321\n"
     ]
    },
    {
     "name": "stdout",
     "output_type": "stream",
     "text": [
      "Epoch 68/100\n",
      "779/804 [============================>.] - ETA: 0s - loss: 0.6915 - accuracy: 0.5295\n",
      "Epoch 68: saving model to checkpoints\\weights.68.hdf5\n",
      "804/804 [==============================] - 1s 2ms/step - loss: 0.6914 - accuracy: 0.5303\n",
      "Epoch 69/100\n",
      "767/804 [===========================>..] - ETA: 0s - loss: 0.6915 - accuracy: 0.5321\n",
      "Epoch 69: saving model to checkpoints\\weights.69.hdf5\n",
      "804/804 [==============================] - 1s 987us/step - loss: 0.6916 - accuracy: 0.5321\n",
      "Epoch 70/100\n",
      "762/804 [===========================>..] - ETA: 0s - loss: 0.6914 - accuracy: 0.5314\n",
      "Epoch 70: saving model to checkpoints\\weights.70.hdf5\n",
      "804/804 [==============================] - 1s 673us/step - loss: 0.6914 - accuracy: 0.5314\n",
      "Epoch 71/100\n",
      "791/804 [============================>.] - ETA: 0s - loss: 0.6915 - accuracy: 0.5301\n",
      "Epoch 71: saving model to checkpoints\\weights.71.hdf5\n",
      "804/804 [==============================] - 1s 652us/step - loss: 0.6915 - accuracy: 0.5304\n",
      "Epoch 72/100\n",
      "753/804 [===========================>..] - ETA: 0s - loss: 0.6917 - accuracy: 0.5312\n",
      "Epoch 72: saving model to checkpoints\\weights.72.hdf5\n",
      "804/804 [==============================] - 1s 689us/step - loss: 0.6915 - accuracy: 0.5321\n",
      "Epoch 73/100\n",
      "798/804 [============================>.] - ETA: 0s - loss: 0.6913 - accuracy: 0.5326\n",
      "Epoch 73: saving model to checkpoints\\weights.73.hdf5\n",
      "804/804 [==============================] - 1s 647us/step - loss: 0.6913 - accuracy: 0.5321\n",
      "Epoch 74/100\n",
      "766/804 [===========================>..] - ETA: 0s - loss: 0.6913 - accuracy: 0.5308\n",
      "Epoch 74: saving model to checkpoints\\weights.74.hdf5\n",
      "804/804 [==============================] - 1s 670us/step - loss: 0.6914 - accuracy: 0.5304\n",
      "Epoch 75/100\n",
      "763/804 [===========================>..] - ETA: 0s - loss: 0.6915 - accuracy: 0.5320\n",
      "Epoch 75: saving model to checkpoints\\weights.75.hdf5\n",
      "804/804 [==============================] - 1s 683us/step - loss: 0.6915 - accuracy: 0.5321\n",
      "Epoch 76/100\n",
      "784/804 [============================>.] - ETA: 0s - loss: 0.6914 - accuracy: 0.5318\n",
      "Epoch 76: saving model to checkpoints\\weights.76.hdf5\n",
      "804/804 [==============================] - 1s 658us/step - loss: 0.6914 - accuracy: 0.5321\n",
      "Epoch 77/100\n",
      "758/804 [===========================>..] - ETA: 0s - loss: 0.6915 - accuracy: 0.5321\n",
      "Epoch 77: saving model to checkpoints\\weights.77.hdf5\n",
      "804/804 [==============================] - 1s 868us/step - loss: 0.6915 - accuracy: 0.5321\n",
      "Epoch 78/100\n",
      "784/804 [============================>.] - ETA: 0s - loss: 0.6913 - accuracy: 0.5333\n",
      "Epoch 78: saving model to checkpoints\\weights.78.hdf5\n",
      "804/804 [==============================] - 1s 660us/step - loss: 0.6913 - accuracy: 0.5321\n",
      "Epoch 79/100\n",
      "787/804 [============================>.] - ETA: 0s - loss: 0.6915 - accuracy: 0.5318\n",
      "Epoch 79: saving model to checkpoints\\weights.79.hdf5\n",
      "804/804 [==============================] - 1s 655us/step - loss: 0.6915 - accuracy: 0.5315\n",
      "Epoch 80/100\n",
      "803/804 [============================>.] - ETA: 0s - loss: 0.6913 - accuracy: 0.5312\n",
      "Epoch 80: saving model to checkpoints\\weights.80.hdf5\n",
      "804/804 [==============================] - 1s 843us/step - loss: 0.6913 - accuracy: 0.5312\n",
      "Epoch 81/100\n",
      "762/804 [===========================>..] - ETA: 0s - loss: 0.6914 - accuracy: 0.5305\n",
      "Epoch 81: saving model to checkpoints\\weights.81.hdf5\n",
      "804/804 [==============================] - 1s 674us/step - loss: 0.6913 - accuracy: 0.5314\n",
      "Epoch 82/100\n",
      "771/804 [===========================>..] - ETA: 0s - loss: 0.6915 - accuracy: 0.5309\n",
      "Epoch 82: saving model to checkpoints\\weights.82.hdf5\n",
      "804/804 [==============================] - 1s 668us/step - loss: 0.6915 - accuracy: 0.5310\n",
      "Epoch 83/100\n",
      "798/804 [============================>.] - ETA: 0s - loss: 0.6912 - accuracy: 0.5326\n",
      "Epoch 83: saving model to checkpoints\\weights.83.hdf5\n",
      "804/804 [==============================] - 1s 646us/step - loss: 0.6913 - accuracy: 0.5321\n",
      "Epoch 84/100\n",
      "744/804 [==========================>...] - ETA: 0s - loss: 0.6915 - accuracy: 0.5322\n",
      "Epoch 84: saving model to checkpoints\\weights.84.hdf5\n",
      "804/804 [==============================] - 1s 689us/step - loss: 0.6915 - accuracy: 0.5321\n",
      "Epoch 85/100\n",
      "784/804 [============================>.] - ETA: 0s - loss: 0.6915 - accuracy: 0.5323\n",
      "Epoch 85: saving model to checkpoints\\weights.85.hdf5\n",
      "804/804 [==============================] - 1s 800us/step - loss: 0.6915 - accuracy: 0.5321\n",
      "Epoch 86/100\n",
      "769/804 [===========================>..] - ETA: 0s - loss: 0.6913 - accuracy: 0.5331\n",
      "Epoch 86: saving model to checkpoints\\weights.86.hdf5\n",
      "804/804 [==============================] - 1s 737us/step - loss: 0.6914 - accuracy: 0.5321\n",
      "Epoch 87/100\n",
      "772/804 [===========================>..] - ETA: 0s - loss: 0.6915 - accuracy: 0.5323\n",
      "Epoch 87: saving model to checkpoints\\weights.87.hdf5\n",
      "804/804 [==============================] - 1s 673us/step - loss: 0.6915 - accuracy: 0.5321\n",
      "Epoch 88/100\n",
      "738/804 [==========================>...] - ETA: 0s - loss: 0.6914 - accuracy: 0.5324\n",
      "Epoch 88: saving model to checkpoints\\weights.88.hdf5\n",
      "804/804 [==============================] - 1s 696us/step - loss: 0.6915 - accuracy: 0.5321\n",
      "Epoch 89/100\n",
      "770/804 [===========================>..] - ETA: 0s - loss: 0.6914 - accuracy: 0.5319\n",
      "Epoch 89: saving model to checkpoints\\weights.89.hdf5\n",
      "804/804 [==============================] - 1s 670us/step - loss: 0.6914 - accuracy: 0.5321\n",
      "Epoch 90/100\n",
      "782/804 [============================>.] - ETA: 0s - loss: 0.6913 - accuracy: 0.5334\n",
      "Epoch 90: saving model to checkpoints\\weights.90.hdf5\n",
      "804/804 [==============================] - 1s 667us/step - loss: 0.6915 - accuracy: 0.5321\n",
      "Epoch 91/100\n",
      "775/804 [===========================>..] - ETA: 0s - loss: 0.6913 - accuracy: 0.5320\n",
      "Epoch 91: saving model to checkpoints\\weights.91.hdf5\n",
      "804/804 [==============================] - 1s 748us/step - loss: 0.6913 - accuracy: 0.5321\n",
      "Epoch 92/100\n",
      "759/804 [===========================>..] - ETA: 0s - loss: 0.6915 - accuracy: 0.5303\n",
      "Epoch 92: saving model to checkpoints\\weights.92.hdf5\n",
      "804/804 [==============================] - 1s 935us/step - loss: 0.6913 - accuracy: 0.5313\n",
      "Epoch 93/100\n",
      "749/804 [==========================>...] - ETA: 0s - loss: 0.6915 - accuracy: 0.5297\n",
      "Epoch 93: saving model to checkpoints\\weights.93.hdf5\n",
      "804/804 [==============================] - 1s 748us/step - loss: 0.6914 - accuracy: 0.5305\n",
      "Epoch 94/100\n",
      "788/804 [============================>.] - ETA: 0s - loss: 0.6914 - accuracy: 0.5314\n",
      "Epoch 94: saving model to checkpoints\\weights.94.hdf5\n",
      "804/804 [==============================] - 1s 723us/step - loss: 0.6913 - accuracy: 0.5321\n",
      "Epoch 95/100\n",
      "753/804 [===========================>..] - ETA: 0s - loss: 0.6912 - accuracy: 0.5322\n",
      "Epoch 95: saving model to checkpoints\\weights.95.hdf5\n",
      "804/804 [==============================] - 1s 748us/step - loss: 0.6913 - accuracy: 0.5321\n",
      "Epoch 96/100\n",
      "787/804 [============================>.] - ETA: 0s - loss: 0.6914 - accuracy: 0.5327\n",
      "Epoch 96: saving model to checkpoints\\weights.96.hdf5\n",
      "804/804 [==============================] - 1s 656us/step - loss: 0.6915 - accuracy: 0.5321\n",
      "Epoch 97/100\n",
      "787/804 [============================>.] - ETA: 0s - loss: 0.6916 - accuracy: 0.5312\n",
      "Epoch 97: saving model to checkpoints\\weights.97.hdf5\n",
      "804/804 [==============================] - 1s 919us/step - loss: 0.6916 - accuracy: 0.5312\n",
      "Epoch 98/100\n",
      "733/804 [==========================>...] - ETA: 0s - loss: 0.6914 - accuracy: 0.5319\n",
      "Epoch 98: saving model to checkpoints\\weights.98.hdf5\n",
      "804/804 [==============================] - 1s 888us/step - loss: 0.6914 - accuracy: 0.5321\n",
      "Epoch 99/100\n",
      "762/804 [===========================>..] - ETA: 0s - loss: 0.6911 - accuracy: 0.5339\n",
      "Epoch 99: saving model to checkpoints\\weights.99.hdf5\n",
      "804/804 [==============================] - 1s 676us/step - loss: 0.6913 - accuracy: 0.5321\n",
      "Epoch 100/100\n",
      "730/804 [==========================>...] - ETA: 0s - loss: 0.6915 - accuracy: 0.5315\n",
      "Epoch 100: saving model to checkpoints\\weights.100.hdf5\n",
      "804/804 [==============================] - 1s 703us/step - loss: 0.6914 - accuracy: 0.5321\n"
     ]
    }
   ],
   "source": [
    "# Train the model\n",
    "fit_model = nn.fit(X_train,y_train,epochs=100,callbacks=[cp_callback])"
   ]
  },
  {
   "cell_type": "code",
   "execution_count": 35,
   "metadata": {},
   "outputs": [
    {
     "data": {
      "text/plain": [
       "<AxesSubplot:>"
      ]
     },
     "execution_count": 35,
     "metadata": {},
     "output_type": "execute_result"
    },
    {
     "data": {
      "image/png": "[encoded data removed]",
      "text/plain": [
       "<Figure size 432x288 with 1 Axes>"
      ]
     },
     "metadata": {
      "needs_background": "light"
     },
     "output_type": "display_data"
    }
   ],
   "source": [
    "# Create a DataFrame containing training history\n",
    "history_df = pd.DataFrame(fit_model.history, index=range(1,len(fit_model.history[\"loss\"])+1))\n",
    "\n",
    "# Plot the loss\n",
    "history_df.plot(y=\"loss\")"
   ]
  },
  {
   "cell_type": "code",
   "execution_count": 36,
   "metadata": {},
   "outputs": [
    {
     "data": {
      "text/plain": [
       "<AxesSubplot:>"
      ]
     },
     "execution_count": 36,
     "metadata": {},
     "output_type": "execute_result"
    },
    {
     "data": {
      "image/png": "[encoded data removed]",
      "text/plain": [
       "<Figure size 432x288 with 1 Axes>"
      ]
     },
     "metadata": {
      "needs_background": "light"
     },
     "output_type": "display_data"
    }
   ],
   "source": [
    "# Plot the accuracy\n",
    "history_df.plot(y=\"accuracy\")"
   ]
  },
  {
   "cell_type": "code",
   "execution_count": 37,
   "metadata": {},
   "outputs": [
    {
     "name": "stdout",
     "output_type": "stream",
     "text": [
      "268/268 - 0s - loss: 0.6499 - accuracy: 0.6498 - 213ms/epoch - 793us/step\n",
      "Loss: 0.6498503088951111, Accuracy: 0.6497958898544312\n"
     ]
    }
   ],
   "source": [
    "# Evaluate the model using the test data\n",
    "model_loss, model_accuracy = nn.evaluate(X_test_scaled,y_test,verbose=2)\n",
    "print(f\"Loss: {model_loss}, Accuracy: {model_accuracy}\")"
   ]
  },
  {
   "cell_type": "code",
   "execution_count": 38,
   "metadata": {},
   "outputs": [],
   "source": [
    "# Export our model to HDF5 file\n",
    "nn.save(\"./Trained_models/AlphabetSoupCharity_D2.h5\")"
   ]
  },
  {
   "cell_type": "code",
   "execution_count": 41,
   "metadata": {},
   "outputs": [],
   "source": [
    "history_df.to_csv(\"./Data/D2_history_df.csv\")"
   ]
  },
  {
   "cell_type": "code",
   "execution_count": 40,
   "metadata": {},
   "outputs": [
    {
     "data": {
      "text/html": [
       "<div>\n",
       "<style scoped>\n",
       "    .dataframe tbody tr th:only-of-type {\n",
       "        vertical-align: middle;\n",
       "    }\n",
       "\n",
       "    .dataframe tbody tr th {\n",
       "        vertical-align: top;\n",
       "    }\n",
       "\n",
       "    .dataframe thead th {\n",
       "        text-align: right;\n",
       "    }\n",
       "</style>\n",
       "<table border=\"1\" class=\"dataframe\">\n",
       "  <thead>\n",
       "    <tr style=\"text-align: right;\">\n",
       "      <th></th>\n",
       "      <th>loss</th>\n",
       "      <th>accuracy</th>\n",
       "    </tr>\n",
       "  </thead>\n",
       "  <tbody>\n",
       "    <tr>\n",
       "      <th>1</th>\n",
       "      <td>100279.570312</td>\n",
       "      <td>0.486705</td>\n",
       "    </tr>\n",
       "    <tr>\n",
       "      <th>2</th>\n",
       "      <td>53537.121094</td>\n",
       "      <td>0.495763</td>\n",
       "    </tr>\n",
       "    <tr>\n",
       "      <th>3</th>\n",
       "      <td>27550.230469</td>\n",
       "      <td>0.506103</td>\n",
       "    </tr>\n",
       "    <tr>\n",
       "      <th>4</th>\n",
       "      <td>26922.431641</td>\n",
       "      <td>0.503615</td>\n",
       "    </tr>\n",
       "    <tr>\n",
       "      <th>5</th>\n",
       "      <td>18029.367188</td>\n",
       "      <td>0.505093</td>\n",
       "    </tr>\n",
       "  </tbody>\n",
       "</table>\n",
       "</div>"
      ],
      "text/plain": [
       "            loss  accuracy\n",
       "1  100279.570312  0.486705\n",
       "2   53537.121094  0.495763\n",
       "3   27550.230469  0.506103\n",
       "4   26922.431641  0.503615\n",
       "5   18029.367188  0.505093"
      ]
     },
     "execution_count": 40,
     "metadata": {},
     "output_type": "execute_result"
    }
   ],
   "source": [
    "history_df.head()"
   ]
  },
  {
   "cell_type": "code",
   "execution_count": null,
   "metadata": {},
   "outputs": [],
   "source": []
  },
  {
   "cell_type": "code",
   "execution_count": null,
   "metadata": {},
   "outputs": [],
   "source": []
  },
  {
   "cell_type": "code",
   "execution_count": null,
   "metadata": {},
   "outputs": [],
   "source": []
  }
 ],
 "metadata": {
  "kernelspec": {
   "display_name": "mlenv",
   "language": "python",
   "name": "mlenv"
  },
  "language_info": {
   "codemirror_mode": {
    "name": "ipython",
    "version": 3
   },
   "file_extension": ".py",
   "mimetype": "text/x-python",
   "name": "python",
   "nbconvert_exporter": "python",
   "pygments_lexer": "ipython3",
   "version": "3.7.13"
  }
 },
 "nbformat": 4,
 "nbformat_minor": 4
}
